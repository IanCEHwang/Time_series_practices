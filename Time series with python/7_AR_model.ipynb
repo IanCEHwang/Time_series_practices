{
 "cells": [
  {
   "cell_type": "markdown",
   "id": "2f707487",
   "metadata": {},
   "source": [
    "### Autoregressive Model (AR)"
   ]
  },
  {
   "cell_type": "markdown",
   "id": "6225c710",
   "metadata": {},
   "source": [
    "- A linear model, where current perios values are a sum of past outcomes multiplied by a numeric factor."
   ]
  },
  {
   "cell_type": "markdown",
   "id": "644f87b2",
   "metadata": {},
   "source": [
    "<center>$x_t$ = C + $\\phi$ $x_{t-1}$ + $\\epsilon_t$"
   ]
  },
  {
   "cell_type": "markdown",
   "id": "64d963a3",
   "metadata": {},
   "source": [
    "$\\phi$ = Any numeric constant by which we multiply the lagged variable"
   ]
  }
 ],
 "metadata": {
  "kernelspec": {
   "display_name": "Python 3 (ipykernel)",
   "language": "python",
   "name": "python3"
  },
  "language_info": {
   "codemirror_mode": {
    "name": "ipython",
    "version": 3
   },
   "file_extension": ".py",
   "mimetype": "text/x-python",
   "name": "python",
   "nbconvert_exporter": "python",
   "pygments_lexer": "ipython3",
   "version": "3.9.6"
  }
 },
 "nbformat": 4,
 "nbformat_minor": 5
}
