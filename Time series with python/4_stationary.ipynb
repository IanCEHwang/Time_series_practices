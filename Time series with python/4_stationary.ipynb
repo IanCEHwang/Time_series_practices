{
 "cells": [
  {
   "cell_type": "code",
   "execution_count": 4,
   "id": "215c64e2",
   "metadata": {},
   "outputs": [],
   "source": [
    "import pandas as pd\n",
    "import numpy as np\n",
    "import statsmodels.graphics.tsaplots as sgt\n",
    "import statsmodels.tsa.stattools\n",
    "import seaborn as sns"
   ]
  },
  {
   "cell_type": "code",
   "execution_count": 11,
   "id": "1828cdac",
   "metadata": {},
   "outputs": [],
   "source": [
    "### prepare data\n",
    "raw_csv = pd.read_csv(\"resources/Index2018.csv\")\n",
    "df_comp = raw_csv.copy()\n",
    "\n",
    "### keep only one column\n",
    "df_comp['date'] = pd.to_datetime(df_comp.date , dayfirst = True)\n",
    "df_comp.set_index('date' , inplace = True)\n",
    "df_comp['market_value'] = df_comp.spx\n",
    "df_comp = df_comp[['market_value']]\n",
    "\n",
    "wn = np.random.normal(loc = df_comp['market_value'].mean() , scale = df_comp.market_value.std() ,\\\n",
    "                      size = len(df_comp))\n",
    "df_comp['wn'] = wn\n",
    "\n",
    "rw = pd.read_csv(\"resources/RandWalk.csv\")\n",
    "rw['date'] = pd.to_datetime(rw.date , dayfirst = True)\n",
    "rw.set_index('date' , inplace = True)\n",
    "rw = rw.asfreq('b')"
   ]
  },
  {
   "cell_type": "markdown",
   "id": "452f2006",
   "metadata": {},
   "source": [
    "## Stationary"
   ]
  },
  {
   "cell_type": "code",
   "execution_count": null,
   "id": "3fe4a275",
   "metadata": {},
   "outputs": [],
   "source": []
  },
  {
   "cell_type": "markdown",
   "id": "1c421905",
   "metadata": {},
   "source": [
    "### For stock price:"
   ]
  },
  {
   "cell_type": "code",
   "execution_count": 9,
   "id": "6319b6d4",
   "metadata": {},
   "outputs": [
    {
     "data": {
      "text/plain": [
       "(1.0724042027036522,\n",
       " 0.9949740839827675,\n",
       " 18,\n",
       " 6250,\n",
       " {'1%': -3.4313967180469573,\n",
       "  '5%': -2.862002556554404,\n",
       "  '10%': -2.5670162159104},\n",
       " 50197.90170692382)"
      ]
     },
     "execution_count": 9,
     "metadata": {},
     "output_type": "execute_result"
    }
   ],
   "source": [
    "statsmodels.tsa.stattools.adfuller(df_comp.market_value)"
   ]
  },
  {
   "cell_type": "markdown",
   "id": "77305d3f",
   "metadata": {},
   "source": [
    "test value = 1.0724042027036522\\\n",
    "p value = 0.9949740839827675\n",
    "\n",
    "**We don't have enough evidence to conclude the data in stationary**\n"
   ]
  },
  {
   "cell_type": "markdown",
   "id": "c5f2b47c",
   "metadata": {},
   "source": [
    "### For White noise"
   ]
  },
  {
   "cell_type": "markdown",
   "id": "58f58b6a",
   "metadata": {},
   "source": [
    "However, for **white noise** data:"
   ]
  },
  {
   "cell_type": "code",
   "execution_count": 10,
   "id": "c6ebcc65",
   "metadata": {},
   "outputs": [
    {
     "data": {
      "text/plain": [
       "(-77.45300320987212,\n",
       " 0.0,\n",
       " 0,\n",
       " 6268,\n",
       " {'1%': -3.4313937109235875,\n",
       "  '5%': -2.862001227905827,\n",
       "  '10%': -2.5670155086390123},\n",
       " 94834.35691805962)"
      ]
     },
     "execution_count": 10,
     "metadata": {},
     "output_type": "execute_result"
    }
   ],
   "source": [
    "statsmodels.tsa.stattools.adfuller(df_comp.wn)"
   ]
  },
  {
   "cell_type": "markdown",
   "id": "bfb41760",
   "metadata": {},
   "source": [
    "### For Random walk"
   ]
  },
  {
   "cell_type": "code",
   "execution_count": 12,
   "id": "1db096c4",
   "metadata": {},
   "outputs": [
    {
     "data": {
      "text/plain": [
       "(-1.328607392768971,\n",
       " 0.6159849181617387,\n",
       " 24,\n",
       " 4996,\n",
       " {'1%': -3.4316595802782865,\n",
       "  '5%': -2.8621186927706463,\n",
       "  '10%': -2.567078038881065},\n",
       " 46299.333497595144)"
      ]
     },
     "execution_count": 12,
     "metadata": {},
     "output_type": "execute_result"
    }
   ],
   "source": [
    "statsmodels.tsa.stattools.adfuller(rw)"
   ]
  },
  {
   "cell_type": "markdown",
   "id": "e642de7e",
   "metadata": {},
   "source": [
    "More often than not, the covariance of two random walk intervals with identical size would be different.\\\n",
    "Therefore, we expect random walk to be a non-stationary process."
   ]
  },
  {
   "cell_type": "code",
   "execution_count": null,
   "id": "0f372165",
   "metadata": {},
   "outputs": [],
   "source": []
  }
 ],
 "metadata": {
  "kernelspec": {
   "display_name": "Python 3 (ipykernel)",
   "language": "python",
   "name": "python3"
  },
  "language_info": {
   "codemirror_mode": {
    "name": "ipython",
    "version": 3
   },
   "file_extension": ".py",
   "mimetype": "text/x-python",
   "name": "python",
   "nbconvert_exporter": "python",
   "pygments_lexer": "ipython3",
   "version": "3.9.6"
  }
 },
 "nbformat": 4,
 "nbformat_minor": 5
}
