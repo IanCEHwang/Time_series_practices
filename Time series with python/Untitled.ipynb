{
 "cells": [
  {
   "cell_type": "code",
   "execution_count": 1,
   "id": "7bff060d",
   "metadata": {},
   "outputs": [],
   "source": [
    "import pandas as pd\n",
    "import numpy as np\n",
    "import statsmodels.graphics.tsaplots as sgt\n",
    "import statsmodels.tsa.stattools\n",
    "from statsmodels.tsa.seasonal import seasonal_decompose\n",
    "import seaborn as sns\n",
    "import matplotlib.pyplot as plt"
   ]
  },
  {
   "cell_type": "code",
   "execution_count": 2,
   "id": "2486f8d7",
   "metadata": {},
   "outputs": [],
   "source": [
    "### prepare data\n",
    "raw_csv = pd.read_csv(\"resources/Index2018.csv\")\n",
    "df_comp = raw_csv.copy()\n",
    "\n",
    "### keep only one column\n",
    "df_comp['date'] = pd.to_datetime(df_comp.date , dayfirst = True)\n",
    "df_comp.set_index('date' , inplace = True)\n",
    "df_comp['market_value'] = df_comp.spx\n",
    "df_comp = df_comp[['market_value']]\n",
    "df_comp = df_comp.asfreq('b')\n",
    "\n",
    "df_comp['market_value'] = df_comp['market_value'].fillna(method = 'ffill')"
   ]
  },
  {
   "cell_type": "code",
   "execution_count": null,
   "id": "4808e172",
   "metadata": {},
   "outputs": [],
   "source": []
  }
 ],
 "metadata": {
  "kernelspec": {
   "display_name": "Python 3 (ipykernel)",
   "language": "python",
   "name": "python3"
  },
  "language_info": {
   "codemirror_mode": {
    "name": "ipython",
    "version": 3
   },
   "file_extension": ".py",
   "mimetype": "text/x-python",
   "name": "python",
   "nbconvert_exporter": "python",
   "pygments_lexer": "ipython3",
   "version": "3.9.6"
  }
 },
 "nbformat": 4,
 "nbformat_minor": 5
}
